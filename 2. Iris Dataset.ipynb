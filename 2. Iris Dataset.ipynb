{
 "cells": [
  {
   "cell_type": "markdown",
   "id": "eb4e8c53",
   "metadata": {},
   "source": [
    "# Iris Dataset"
   ]
  },
  {
   "cell_type": "markdown",
   "id": "a5331052",
   "metadata": {},
   "source": [
    "## Importing Libraries"
   ]
  },
  {
   "cell_type": "code",
   "execution_count": 1,
   "id": "36157694",
   "metadata": {},
   "outputs": [],
   "source": [
    "import numpy as np\n",
    "import pandas as pd \n",
    "import matplotlib.pyplot as plt \n",
    "import seaborn as sns\n",
    "import torch\n",
    "from torch import nn\n",
    "import torch.nn.functional as F\n",
    "from torch.utils.data import Dataset,DataLoader\n",
    "from sklearn.model_selection import train_test_split\n",
    "import sklearn.metrics as metrics\n",
    "from sklearn.preprocessing import StandardScaler\n",
    "from tqdm import tqdm"
   ]
  },
  {
   "cell_type": "markdown",
   "id": "65f89cd4",
   "metadata": {},
   "source": [
    "## Loading Iris dataset into DataDrame"
   ]
  },
  {
   "cell_type": "code",
   "execution_count": 2,
   "id": "e06d8ab8",
   "metadata": {},
   "outputs": [],
   "source": [
    "df_iris= pd.read_csv('iris.data',names=[ 'sepal_length','sepal_width','petal_length','petal_width','class1'])"
   ]
  },
  {
   "cell_type": "code",
   "execution_count": 3,
   "id": "cebd1095",
   "metadata": {},
   "outputs": [
    {
     "data": {
      "text/html": [
       "<div>\n",
       "<style scoped>\n",
       "    .dataframe tbody tr th:only-of-type {\n",
       "        vertical-align: middle;\n",
       "    }\n",
       "\n",
       "    .dataframe tbody tr th {\n",
       "        vertical-align: top;\n",
       "    }\n",
       "\n",
       "    .dataframe thead th {\n",
       "        text-align: right;\n",
       "    }\n",
       "</style>\n",
       "<table border=\"1\" class=\"dataframe\">\n",
       "  <thead>\n",
       "    <tr style=\"text-align: right;\">\n",
       "      <th></th>\n",
       "      <th>sepal_length</th>\n",
       "      <th>sepal_width</th>\n",
       "      <th>petal_length</th>\n",
       "      <th>petal_width</th>\n",
       "      <th>class1</th>\n",
       "    </tr>\n",
       "  </thead>\n",
       "  <tbody>\n",
       "    <tr>\n",
       "      <th>0</th>\n",
       "      <td>5.1</td>\n",
       "      <td>3.5</td>\n",
       "      <td>1.4</td>\n",
       "      <td>0.2</td>\n",
       "      <td>Iris-setosa</td>\n",
       "    </tr>\n",
       "    <tr>\n",
       "      <th>1</th>\n",
       "      <td>4.9</td>\n",
       "      <td>3.0</td>\n",
       "      <td>1.4</td>\n",
       "      <td>0.2</td>\n",
       "      <td>Iris-setosa</td>\n",
       "    </tr>\n",
       "    <tr>\n",
       "      <th>2</th>\n",
       "      <td>4.7</td>\n",
       "      <td>3.2</td>\n",
       "      <td>1.3</td>\n",
       "      <td>0.2</td>\n",
       "      <td>Iris-setosa</td>\n",
       "    </tr>\n",
       "  </tbody>\n",
       "</table>\n",
       "</div>"
      ],
      "text/plain": [
       "   sepal_length  sepal_width  petal_length  petal_width       class1\n",
       "0           5.1          3.5           1.4          0.2  Iris-setosa\n",
       "1           4.9          3.0           1.4          0.2  Iris-setosa\n",
       "2           4.7          3.2           1.3          0.2  Iris-setosa"
      ]
     },
     "execution_count": 3,
     "metadata": {},
     "output_type": "execute_result"
    }
   ],
   "source": [
    "df_iris.head(3)"
   ]
  },
  {
   "cell_type": "code",
   "execution_count": 4,
   "id": "c336d214",
   "metadata": {},
   "outputs": [],
   "source": [
    "cat={'Iris-setosa':0, 'Iris-versicolor':1,'Iris-virginica':2}\n",
    "df_iris['class1'] = [cat[i] for i in df_iris['class1']]\n",
    "#df_iris['class1']=df_iris['class1'].map('Iris-setosa':1, 'Iris-Versicolour':2,'Iris-Virginica':3)\n",
    "df_iris.dropna(inplace=True)"
   ]
  },
  {
   "cell_type": "code",
   "execution_count": 5,
   "id": "a4d1b1be",
   "metadata": {},
   "outputs": [
    {
     "data": {
      "text/plain": [
       "(150, 5)"
      ]
     },
     "execution_count": 5,
     "metadata": {},
     "output_type": "execute_result"
    }
   ],
   "source": [
    "df_iris.shape"
   ]
  },
  {
   "cell_type": "markdown",
   "id": "fa3a8cf7",
   "metadata": {},
   "source": [
    "### Splitting Dataset into Train test set "
   ]
  },
  {
   "cell_type": "code",
   "execution_count": 6,
   "id": "60a0bcf3",
   "metadata": {},
   "outputs": [],
   "source": [
    "X_train,X_test,y_train,y_test = train_test_split(df_iris[['sepal_length','sepal_width','petal_length','petal_width']],df_iris['class1'],test_size=0.2)"
   ]
  },
  {
   "cell_type": "code",
   "execution_count": 7,
   "id": "27dc6048",
   "metadata": {},
   "outputs": [],
   "source": [
    "scaler = StandardScaler()\n",
    "X_train=scaler.fit_transform(X_train)\n",
    "X_test=scaler.fit_transform(X_test)\n"
   ]
  },
  {
   "cell_type": "code",
   "execution_count": 8,
   "id": "100da145",
   "metadata": {},
   "outputs": [],
   "source": [
    "class Loaddataset(Dataset):\n",
    "    def __init__(self,data,class1):\n",
    "        self.data=torch.from_numpy(data).float()\n",
    "        self.class1=torch.from_numpy(class1.to_numpy()).long()\n",
    "        \n",
    "    def __len__(self):\n",
    "        return len(self.class1)\n",
    "    \n",
    "    def __getitem__(self,idx):\n",
    "        data=self.data[idx]\n",
    "        class1=self.class1[idx]\n",
    "        return data,class1"
   ]
  },
  {
   "cell_type": "code",
   "execution_count": 9,
   "id": "b7ee837f",
   "metadata": {},
   "outputs": [],
   "source": [
    "training_data= Loaddataset(X_train,y_train)\n",
    "testing_data = Loaddataset(X_test,y_test)"
   ]
  },
  {
   "cell_type": "code",
   "execution_count": 10,
   "id": "d296423a",
   "metadata": {},
   "outputs": [],
   "source": [
    "batch_size=64\n",
    "\n",
    "traindataloader=DataLoader(training_data,batch_size=batch_size)\n",
    "testdataloader=DataLoader(testing_data,batch_size=batch_size)"
   ]
  },
  {
   "cell_type": "code",
   "execution_count": 11,
   "id": "c8c4e623",
   "metadata": {},
   "outputs": [
    {
     "data": {
      "text/plain": [
       "(torch.Size([64, 4]), torch.Size([64]))"
      ]
     },
     "execution_count": 11,
     "metadata": {},
     "output_type": "execute_result"
    }
   ],
   "source": [
    "X, y = next(iter(traindataloader))\n",
    "X.shape, y.shape"
   ]
  },
  {
   "cell_type": "code",
   "execution_count": 12,
   "id": "56a85eee",
   "metadata": {},
   "outputs": [],
   "source": [
    "class Ada_act(nn.Module):\n",
    "    def __init__(self,k1,k2):\n",
    "        super(Ada_act,self).__init__()\n",
    "        self.k=torch.nn.Parameter(torch.tensor([k1,k2]))\n",
    "        \n",
    "    def forward(self,x):\n",
    "        return self.k[0]+(self.k[1]*x)"
   ]
  },
  {
   "cell_type": "code",
   "execution_count": 13,
   "id": "a98f04f3",
   "metadata": {},
   "outputs": [],
   "source": [
    "class custom(nn.Module):\n",
    "    def __init__(self,input_dim,k1,k2):\n",
    "        super(custom,self).__init__()\n",
    "        self.layer1 =nn.Linear(input_dim,100)\n",
    "        self.layer2 = nn.Linear(100,200)\n",
    "        self.layer3 = nn.Linear(200,3)\n",
    "        self.Ada_act = Ada_act(k1,k2)\n",
    "    def forward(self,x):\n",
    "        x= self.Ada_act(self.layer1(x))\n",
    "        x= self.Ada_act(self.layer2(x))\n",
    "        x= F.softmax(self.layer3(x),dim=1)\n",
    "        return x"
   ]
  },
  {
   "cell_type": "code",
   "execution_count": 14,
   "id": "acfd58f6",
   "metadata": {},
   "outputs": [
    {
     "name": "stdout",
     "output_type": "stream",
     "text": [
      "custom(\n",
      "  (layer1): Linear(in_features=4, out_features=100, bias=True)\n",
      "  (layer2): Linear(in_features=100, out_features=200, bias=True)\n",
      "  (layer3): Linear(in_features=200, out_features=3, bias=True)\n",
      "  (Ada_act): Ada_act()\n",
      ")\n"
     ]
    }
   ],
   "source": [
    "print(custom(4, 0.5, 0.5))"
   ]
  },
  {
   "cell_type": "code",
   "execution_count": 15,
   "id": "7d4c5b56",
   "metadata": {},
   "outputs": [],
   "source": [
    "def training(dataloader,model,loss_function,optimizer):\n",
    "    train_loss =[]\n",
    "    pred_all =[]\n",
    "    for batch,(X,y) in enumerate(dataloader):\n",
    "        X,y= X.to(device),y.to(device)\n",
    "        \n",
    "        pred = model(X)\n",
    "        loss = loss_function(pred,y)\n",
    "        \n",
    "        train_loss.append(loss.item())\n",
    "        \n",
    "        pred_all = pred_all + pred.argmax(1).tolist()\n",
    "        \n",
    "        optimizer.zero_grad()\n",
    "        \n",
    "        loss.backward()\n",
    "        \n",
    "        optimizer.step()\n",
    "        \n",
    "    train_accuracy = metrics.accuracy_score(dataloader.dataset.class1,pred_all)\n",
    "    return (sum(train_loss)/len(train_loss),train_accuracy)"
   ]
  },
  {
   "cell_type": "code",
   "execution_count": 16,
   "id": "0eebc239",
   "metadata": {},
   "outputs": [],
   "source": [
    "def testing(dataloader,model):\n",
    "    model.eval()\n",
    "    testing_loss =[]\n",
    "    pred_all =[]\n",
    "    test_loss = 0\n",
    "    with torch.no_grad():\n",
    "        for batch, (X,y) in enumerate(dataloader):\n",
    "            \n",
    "            X,y = X.to(device),y.to(device)\n",
    "\n",
    "\n",
    "            pred =model(X)\n",
    "            loss = loss_function(pred,y).item()\n",
    "\n",
    "\n",
    "            test_loss = test_loss + loss\n",
    "            pred_all = pred_all + pred.argmax(1).tolist()\n",
    "\n",
    "    test_loss =test_loss/ len(dataloader)\n",
    "        \n",
    "    test_accuracy = metrics.accuracy_score(dataloader.dataset.class1,pred_all)\n",
    "    test_F1_score = metrics.f1_score(dataloader.dataset.class1,pred_all, average='micro')\n",
    "        \n",
    "    return (test_loss, test_accuracy,test_F1_score)"
   ]
  },
  {
   "cell_type": "code",
   "execution_count": 17,
   "id": "44dd430a",
   "metadata": {},
   "outputs": [
    {
     "name": "stdout",
     "output_type": "stream",
     "text": [
      "Using cuda device\n"
     ]
    }
   ],
   "source": [
    "device = 'cuda' if torch.cuda.is_available() else 'cpu'\n",
    "print('Using {} device'.format(device))"
   ]
  },
  {
   "cell_type": "code",
   "execution_count": 18,
   "id": "a77d884d",
   "metadata": {},
   "outputs": [
    {
     "name": "stderr",
     "output_type": "stream",
     "text": [
      "\r",
      "  0%|                                                                                          | 0/300 [00:00<?, ?it/s]"
     ]
    },
    {
     "name": "stdout",
     "output_type": "stream",
     "text": [
      "---------------------------------------Training Started-------------------------------------------\n",
      "\n"
     ]
    },
    {
     "name": "stderr",
     "output_type": "stream",
     "text": [
      "  6%|████▌                                                                            | 17/300 [00:00<00:04, 57.46it/s]"
     ]
    },
    {
     "name": "stdout",
     "output_type": "stream",
     "text": [
      "Epochs 0\n",
      "Training LOSS 1.1173876523971558\n",
      "Training Accuracy 0.20833333333333334\n",
      "Validating Loss 1.059059739112854\n",
      "Validating Accuracy 0.4\n",
      "Epochs 10\n",
      "Training LOSS 0.7553520798683167\n",
      "Training Accuracy 0.875\n",
      "Validating Loss 0.7501541376113892\n",
      "Validating Accuracy 0.8666666666666667\n",
      "Epochs 20\n",
      "Training LOSS 0.6663018763065338\n",
      "Training Accuracy 0.925\n",
      "Validating Loss 0.6600879430770874\n",
      "Validating Accuracy 0.9333333333333333\n",
      "Epochs 30\n",
      "Training LOSS 0.6154309809207916\n",
      "Training Accuracy 0.9583333333333334\n",
      "Validating Loss 0.610995352268219\n",
      "Validating Accuracy 1.0\n"
     ]
    },
    {
     "name": "stderr",
     "output_type": "stream",
     "text": [
      " 22%|█████████████████▌                                                              | 66/300 [00:00<00:01, 126.81it/s]"
     ]
    },
    {
     "name": "stdout",
     "output_type": "stream",
     "text": [
      "Epochs 40\n",
      "Training LOSS 0.5903510451316833\n",
      "Training Accuracy 0.975\n",
      "Validating Loss 0.6081850528717041\n",
      "Validating Accuracy 0.9666666666666667\n",
      "Epochs 50\n",
      "Training LOSS 0.5815808773040771\n",
      "Training Accuracy 0.975\n",
      "Validating Loss 0.5987054109573364\n",
      "Validating Accuracy 0.9666666666666667\n",
      "Epochs 60\n",
      "Training LOSS 0.5774610936641693\n",
      "Training Accuracy 0.975\n",
      "Validating Loss 0.5913773775100708\n",
      "Validating Accuracy 0.9666666666666667\n",
      "Epochs 70\n",
      "Training LOSS 0.5751113891601562\n",
      "Training Accuracy 0.975\n",
      "Validating Loss 0.5906038880348206\n",
      "Validating Accuracy 0.9666666666666667\n"
     ]
    },
    {
     "name": "stderr",
     "output_type": "stream",
     "text": [
      " 32%|█████████████████████████▌                                                      | 96/300 [00:00<00:01, 115.32it/s]"
     ]
    },
    {
     "name": "stdout",
     "output_type": "stream",
     "text": [
      "Epochs 80\n",
      "Training LOSS 0.5734890997409821\n",
      "Training Accuracy 0.9833333333333333\n",
      "Validating Loss 0.5912158489227295\n",
      "Validating Accuracy 0.9666666666666667\n",
      "Epochs 90\n",
      "Training LOSS 0.5722245872020721\n",
      "Training Accuracy 0.9916666666666667\n",
      "Validating Loss 0.5917235016822815\n",
      "Validating Accuracy 0.9666666666666667\n"
     ]
    },
    {
     "name": "stderr",
     "output_type": "stream",
     "text": [
      "\r",
      " 36%|████████████████████████████▋                                                  | 109/300 [00:01<00:01, 110.58it/s]"
     ]
    },
    {
     "name": "stdout",
     "output_type": "stream",
     "text": [
      "Epochs 100\n",
      "Training LOSS 0.5711503028869629\n",
      "Training Accuracy 0.9916666666666667\n",
      "Validating Loss 0.5923616290092468\n",
      "Validating Accuracy 0.9666666666666667\n",
      "Epochs 110\n",
      "Training LOSS 0.5701838731765747\n",
      "Training Accuracy 0.9916666666666667\n",
      "Validating Loss 0.5930396914482117\n",
      "Validating Accuracy 0.9666666666666667\n",
      "Epochs 120\n",
      "Training LOSS 0.5692837536334991\n",
      "Training Accuracy 0.9916666666666667\n",
      "Validating Loss 0.5935559868812561\n",
      "Validating Accuracy 0.9666666666666667\n"
     ]
    },
    {
     "name": "stderr",
     "output_type": "stream",
     "text": [
      " 51%|████████████████████████████████████████                                       | 152/300 [00:01<00:01, 128.56it/s]"
     ]
    },
    {
     "name": "stdout",
     "output_type": "stream",
     "text": [
      "Epochs 130\n",
      "Training LOSS 0.5684302747249603\n",
      "Training Accuracy 0.9916666666666667\n",
      "Validating Loss 0.5938759446144104\n",
      "Validating Accuracy 0.9666666666666667\n",
      "Epochs 140\n",
      "Training LOSS 0.5676161646842957\n",
      "Training Accuracy 0.9916666666666667\n",
      "Validating Loss 0.5939948558807373\n",
      "Validating Accuracy 0.9666666666666667\n",
      "Epochs 150\n",
      "Training LOSS 0.566841334104538\n",
      "Training Accuracy 0.9916666666666667\n",
      "Validating Loss 0.5939196348190308\n",
      "Validating Accuracy 0.9666666666666667\n",
      "Epochs 160\n",
      "Training LOSS 0.5661095678806305\n",
      "Training Accuracy 0.9916666666666667"
     ]
    },
    {
     "name": "stderr",
     "output_type": "stream",
     "text": [
      " 61%|████████████████████████████████████████████████▏                              | 183/300 [00:01<00:00, 140.24it/s]"
     ]
    },
    {
     "name": "stdout",
     "output_type": "stream",
     "text": [
      "\n",
      "Validating Loss 0.59367835521698\n",
      "Validating Accuracy 0.9666666666666667\n",
      "Epochs 170\n",
      "Training LOSS 0.565425455570221\n",
      "Training Accuracy 0.9916666666666667\n",
      "Validating Loss 0.5933021903038025\n",
      "Validating Accuracy 0.9666666666666667\n",
      "Epochs 180\n",
      "Training LOSS 0.5647936463356018\n",
      "Training Accuracy 0.9916666666666667\n",
      "Validating Loss 0.5928261876106262\n",
      "Validating Accuracy 0.9666666666666667\n"
     ]
    },
    {
     "name": "stderr",
     "output_type": "stream",
     "text": [
      "\r",
      " 66%|████████████████████████████████████████████████████▏                          | 198/300 [00:01<00:00, 126.30it/s]"
     ]
    },
    {
     "name": "stdout",
     "output_type": "stream",
     "text": [
      "Epochs 190\n",
      "Training LOSS 0.5642169117927551\n",
      "Training Accuracy 0.9916666666666667\n",
      "Validating Loss 0.5922840237617493\n",
      "Validating Accuracy 0.9666666666666667\n",
      "Epochs 200\n",
      "Training LOSS 0.5636960566043854\n",
      "Training Accuracy 0.9916666666666667\n",
      "Validating Loss 0.5917069911956787\n",
      "Validating Accuracy 0.9666666666666667\n",
      "Epochs 210\n",
      "Training LOSS 0.5632299184799194\n",
      "Training Accuracy 0.9916666666666667\n",
      "Validating Loss 0.5911216735839844\n",
      "Validating Accuracy 0.9666666666666667\n"
     ]
    },
    {
     "name": "stderr",
     "output_type": "stream",
     "text": [
      " 81%|███████████████████████████████████████████████████████████████▋               | 242/300 [00:02<00:00, 130.34it/s]"
     ]
    },
    {
     "name": "stdout",
     "output_type": "stream",
     "text": [
      "Epochs 220\n",
      "Training LOSS 0.5628158152103424\n",
      "Training Accuracy 0.9916666666666667\n",
      "Validating Loss 0.5905488729476929\n",
      "Validating Accuracy 0.9666666666666667\n",
      "Epochs 230\n",
      "Training LOSS 0.5624497830867767\n",
      "Training Accuracy 0.9916666666666667\n",
      "Validating Loss 0.5900037884712219\n",
      "Validating Accuracy 0.9666666666666667\n",
      "Epochs 240\n",
      "Training LOSS 0.562127411365509\n",
      "Training Accuracy 0.9916666666666667\n",
      "Validating Loss 0.5894968509674072\n",
      "Validating Accuracy 0.9666666666666667\n",
      "Epochs 250\n",
      "Training LOSS 0.5618438124656677\n",
      "Training Accuracy 0.9916666666666667\n",
      "Validating Loss 0.5890336632728577\n",
      "Validating Accuracy 0.9666666666666667\n"
     ]
    },
    {
     "name": "stderr",
     "output_type": "stream",
     "text": [
      " 97%|████████████████████████████████████████████████████████████████████████████▋  | 291/300 [00:02<00:00, 148.09it/s]"
     ]
    },
    {
     "name": "stdout",
     "output_type": "stream",
     "text": [
      "Epochs 260\n",
      "Training LOSS 0.5615947246551514\n",
      "Training Accuracy 0.9916666666666667\n",
      "Validating Loss 0.588616132736206\n",
      "Validating Accuracy 0.9666666666666667\n",
      "Epochs 270\n",
      "Training LOSS 0.5613755285739899\n",
      "Training Accuracy 0.9916666666666667\n",
      "Validating Loss 0.588244616985321\n",
      "Validating Accuracy 0.9666666666666667\n",
      "Epochs 280\n",
      "Training LOSS 0.5611826181411743\n",
      "Training Accuracy 0.9916666666666667\n",
      "Validating Loss 0.587916374206543\n",
      "Validating Accuracy 0.9666666666666667\n",
      "Epochs 290\n",
      "Training LOSS 0.561012327671051\n",
      "Training Accuracy 0.9916666666666667\n",
      "Validating Loss 0.5876289010047913\n",
      "Validating Accuracy 0.9666666666666667\n"
     ]
    },
    {
     "name": "stderr",
     "output_type": "stream",
     "text": [
      "\r",
      "100%|███████████████████████████████████████████████████████████████████████████████| 300/300 [00:02<00:00, 121.54it/s]"
     ]
    },
    {
     "name": "stdout",
     "output_type": "stream",
     "text": [
      "Completed!\n"
     ]
    },
    {
     "name": "stderr",
     "output_type": "stream",
     "text": [
      "\n"
     ]
    }
   ],
   "source": [
    "k1=0.5\n",
    "k2=0.7\n",
    "\n",
    "model = custom(training_data.data.shape[1],k1,k2).to(device)\n",
    "loss_function = nn.CrossEntropyLoss()\n",
    "Adam_optimizer = torch.optim.Adam(model.parameters(),lr=1e-3)\n",
    "\n",
    "epochs =300\n",
    "train_info =[]\n",
    "test_info = []\n",
    "    \n",
    "print('---------------------------------------Training Started-------------------------------------------\\n')\n",
    "for epoch in tqdm(range(epochs)):\n",
    "    training_epoch_1 = training(traindataloader, model, loss_function, Adam_optimizer)\n",
    "    Validating_epoch_1 = testing(testdataloader, model)\n",
    "    \n",
    "    train_info.append(training_epoch_1)\n",
    "    test_info.append(Validating_epoch_1)\n",
    "    if epoch % 10 == 0:\n",
    "        print('Epochs',epoch)\n",
    "        print('Training LOSS',training_epoch_1[0])\n",
    "        print('Training Accuracy',training_epoch_1[1])\n",
    "        print('Validating Loss',Validating_epoch_1[0])\n",
    "        print('Validating Accuracy',Validating_epoch_1[1])\n",
    "print(\"Completed!\")    "
   ]
  },
  {
   "cell_type": "markdown",
   "id": "41e9479c",
   "metadata": {},
   "source": [
    "# Plotting the Results"
   ]
  },
  {
   "cell_type": "code",
   "execution_count": 19,
   "id": "306f8e13",
   "metadata": {},
   "outputs": [
    {
     "data": {
      "text/plain": [
       "Text(0, 0.5, 'Validation Accuracy')"
      ]
     },
     "execution_count": 19,
     "metadata": {},
     "output_type": "execute_result"
    },
    {
     "data": {
      "image/png": "[encoded data removed]",
      "text/plain": [
       "<Figure size 432x576 with 2 Axes>"
      ]
     },
     "metadata": {
      "needs_background": "light"
     },
     "output_type": "display_data"
    }
   ],
   "source": [
    "fig, (ax1, ax2) = plt.subplots(2, figsize=(6, 8))\n",
    "\n",
    "ax1.plot(list(zip(*train_info))[0],'c')\n",
    "ax1.set_ylabel(\"Training loss\")\n",
    "ax2.plot(list(zip(*test_info))[1],'red')\n",
    "ax2.set_ylabel(\"Validation Accuracy\")"
   ]
  },
  {
   "cell_type": "code",
   "execution_count": null,
   "id": "59e474b1",
   "metadata": {},
   "outputs": [],
   "source": []
  }
 ],
 "metadata": {
  "kernelspec": {
   "display_name": "Python 3",
   "language": "python",
   "name": "python3"
  },
  "language_info": {
   "codemirror_mode": {
    "name": "ipython",
    "version": 3
   },
   "file_extension": ".py",
   "mimetype": "text/x-python",
   "name": "python",
   "nbconvert_exporter": "python",
   "pygments_lexer": "ipython3",
   "version": "3.8.3"
  }
 },
 "nbformat": 4,
 "nbformat_minor": 5
}
