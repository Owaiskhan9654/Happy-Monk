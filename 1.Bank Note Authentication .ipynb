{
 "cells": [
  {
   "cell_type": "markdown",
   "id": "a9d026c2",
   "metadata": {},
   "source": [
    "# BANK NOTEBOOK DATASET"
   ]
  },
  {
   "cell_type": "markdown",
   "id": "2e09ab68",
   "metadata": {},
   "source": [
    "## Importing Libraries"
   ]
  },
  {
   "cell_type": "code",
   "execution_count": 1,
   "id": "b1ffde7c",
   "metadata": {},
   "outputs": [],
   "source": [
    "import pandas as pd\n",
    "import numpy as np\n",
    "import matplotlib.pyplot as plt\n",
    "import seaborn as sns\n",
    "from sklearn.model_selection import train_test_split\n",
    "from torch.utils.data import DataLoader\n",
    "from torch.utils.data import Dataset\n",
    "import torch\n",
    "from torch import nn\n",
    "import sklearn.metrics as metrics\n",
    "from sklearn.preprocessing import StandardScaler\n",
    "from tqdm import tqdm"
   ]
  },
  {
   "cell_type": "markdown",
   "id": "cc2df0a1",
   "metadata": {},
   "source": [
    "## Reading Dataset"
   ]
  },
  {
   "cell_type": "code",
   "execution_count": 2,
   "id": "a6d5a85e",
   "metadata": {},
   "outputs": [],
   "source": [
    "df_notes=pd.read_csv('data_banknote_authentication.txt',names=['variance','curtosis','skewness','entropy','Bclass'])"
   ]
  },
  {
   "cell_type": "code",
   "execution_count": 3,
   "id": "7de4392c",
   "metadata": {},
   "outputs": [
    {
     "data": {
      "text/html": [
       "<div>\n",
       "<style scoped>\n",
       "    .dataframe tbody tr th:only-of-type {\n",
       "        vertical-align: middle;\n",
       "    }\n",
       "\n",
       "    .dataframe tbody tr th {\n",
       "        vertical-align: top;\n",
       "    }\n",
       "\n",
       "    .dataframe thead th {\n",
       "        text-align: right;\n",
       "    }\n",
       "</style>\n",
       "<table border=\"1\" class=\"dataframe\">\n",
       "  <thead>\n",
       "    <tr style=\"text-align: right;\">\n",
       "      <th></th>\n",
       "      <th>variance</th>\n",
       "      <th>curtosis</th>\n",
       "      <th>skewness</th>\n",
       "      <th>entropy</th>\n",
       "      <th>Bclass</th>\n",
       "    </tr>\n",
       "  </thead>\n",
       "  <tbody>\n",
       "    <tr>\n",
       "      <th>0</th>\n",
       "      <td>3.6216</td>\n",
       "      <td>8.6661</td>\n",
       "      <td>-2.8073</td>\n",
       "      <td>-0.44699</td>\n",
       "      <td>0</td>\n",
       "    </tr>\n",
       "    <tr>\n",
       "      <th>1</th>\n",
       "      <td>4.5459</td>\n",
       "      <td>8.1674</td>\n",
       "      <td>-2.4586</td>\n",
       "      <td>-1.46210</td>\n",
       "      <td>0</td>\n",
       "    </tr>\n",
       "    <tr>\n",
       "      <th>2</th>\n",
       "      <td>3.8660</td>\n",
       "      <td>-2.6383</td>\n",
       "      <td>1.9242</td>\n",
       "      <td>0.10645</td>\n",
       "      <td>0</td>\n",
       "    </tr>\n",
       "  </tbody>\n",
       "</table>\n",
       "</div>"
      ],
      "text/plain": [
       "   variance  curtosis  skewness  entropy  Bclass\n",
       "0    3.6216    8.6661   -2.8073 -0.44699       0\n",
       "1    4.5459    8.1674   -2.4586 -1.46210       0\n",
       "2    3.8660   -2.6383    1.9242  0.10645       0"
      ]
     },
     "execution_count": 3,
     "metadata": {},
     "output_type": "execute_result"
    }
   ],
   "source": [
    "df_notes.head(3)"
   ]
  },
  {
   "cell_type": "code",
   "execution_count": 4,
   "id": "5a7b7129",
   "metadata": {},
   "outputs": [],
   "source": [
    "X_H=df_notes.iloc[:,0:4]\n",
    "Y_H = df_notes.Bclass"
   ]
  },
  {
   "cell_type": "markdown",
   "id": "1f7a3565",
   "metadata": {},
   "source": [
    "### Applying standard scaling and Splitting the dataset into training and Validating with 80%, 20% Ratio"
   ]
  },
  {
   "cell_type": "code",
   "execution_count": 5,
   "id": "1da1a6f0",
   "metadata": {},
   "outputs": [],
   "source": [
    "scaler = StandardScaler()\n",
    "X_train, X_test, y_train, y_test = train_test_split(\n",
    "    scaler.fit_transform(X_H), Y_H.to_numpy(), test_size=0.2)"
   ]
  },
  {
   "cell_type": "code",
   "execution_count": 6,
   "id": "6cf0e47b",
   "metadata": {},
   "outputs": [],
   "source": [
    "class BanknoteDataset(Dataset):\n",
    "    def __init__(self,data,Bclass):\n",
    "        self.data= torch.from_numpy(data).float()\n",
    "        self.Bclass=torch.from_numpy(Bclass).long()\n",
    "\n",
    "    def __getitem__(self, idx):\n",
    "        item = self.data[idx]\n",
    "        Bclass = self.Bclass[idx]\n",
    "        return item, Bclass\n",
    "\n",
    "    def __len__(self):\n",
    "        return len(self.Bclass)\n",
    "    "
   ]
  },
  {
   "cell_type": "code",
   "execution_count": 7,
   "id": "5c76a683",
   "metadata": {},
   "outputs": [],
   "source": [
    "training_data = BanknoteDataset(X_train, y_train)\n",
    "test_data = BanknoteDataset(X_test, y_test)"
   ]
  },
  {
   "cell_type": "markdown",
   "id": "8f12dbcc",
   "metadata": {},
   "source": [
    "### Intitializing Dataloader for loading Training and Validating dataset in batch size of 128"
   ]
  },
  {
   "cell_type": "code",
   "execution_count": 8,
   "id": "97919a0d",
   "metadata": {},
   "outputs": [
    {
     "data": {
      "text/plain": [
       "(torch.Size([128, 4]), torch.Size([128]))"
      ]
     },
     "execution_count": 8,
     "metadata": {},
     "output_type": "execute_result"
    }
   ],
   "source": [
    "batchsize=128\n",
    "traindataloder= DataLoader(training_data,batch_size=batchsize)\n",
    "testdataloder= DataLoader(test_data,batch_size=batchsize)\n",
    "\n",
    "test_info = []\n",
    "X, y = next(iter(traindataloder))\n",
    "X.shape, y.shape"
   ]
  },
  {
   "cell_type": "code",
   "execution_count": 9,
   "id": "57b6ac8c",
   "metadata": {},
   "outputs": [],
   "source": [
    "class Ada_Act(nn.Module):\n",
    "    def __init__(self,k1,k2):\n",
    "        super(Ada_Act, self).__init__()\n",
    "        self.k = torch.nn.Parameter(torch.tensor([k1,k2]))\n",
    "        \n",
    "    def forward(self,x):\n",
    "        return self.k[0] + (x*self.k[1])"
   ]
  },
  {
   "cell_type": "code",
   "execution_count": 10,
   "id": "264632ea",
   "metadata": {},
   "outputs": [],
   "source": [
    "class NN_custom(nn.Module):\n",
    "    def __init__(self,input_dim,k1,k2):\n",
    "        super(NN_custom,self).__init__()\n",
    "        self.layer1 = nn.Linear(input_dim,20)\n",
    "        self.layer2 = nn.Linear(20,10)\n",
    "        self.layer3 = nn.Linear(10,1)\n",
    "        \n",
    "        self.ada_act = Ada_Act(k1,k2)\n",
    "\n",
    "            \n",
    "    def forward(self,x):\n",
    "        x=self.ada_act(self.layer1(x))\n",
    "        x= self.ada_act(self.layer2(x))\n",
    "        x=torch.sigmoid(self.layer3(x))\n",
    "        \n",
    "        return x"
   ]
  },
  {
   "cell_type": "markdown",
   "id": "d6e9d0f4",
   "metadata": {},
   "source": [
    "### Initializing Training Function for Training and predicting Results on training dataset and calculating              Accuracy on it."
   ]
  },
  {
   "cell_type": "code",
   "execution_count": 11,
   "id": "48f47eb1",
   "metadata": {},
   "outputs": [],
   "source": [
    "def train(dataloader, model, loss_fn, optimizer):\n",
    "    train_loss =[]\n",
    "    pred_all = []\n",
    "    for batch,(X,y) in enumerate(dataloader):\n",
    "        X,y =X.to(device), y.to(device)\n",
    "        \n",
    "        ## Calculate prediction Error\n",
    "        pred =model(X)\n",
    "        \n",
    "        loss =loss_fn(pred.flatten(),y.float())\n",
    "        \n",
    "        train_loss.append(loss.item())\n",
    "        pred_all = pred_all + (pred.flatten()> 0.5).long().tolist()\n",
    "        \n",
    "        optimizer.zero_grad()\n",
    "        loss.backward()\n",
    "        optimizer.step()\n",
    "        \n",
    "    train_accuracy = metrics.accuracy_score(dataloader.dataset.Bclass,pred_all)\n",
    "    return (sum(train_loss)/len(train_loss),train_accuracy)"
   ]
  },
  {
   "cell_type": "markdown",
   "id": "4236fdea",
   "metadata": {},
   "source": [
    "### Initializing Validating Function for Validating and predicting Results on Validating dataset and calculating              Accuracy on it."
   ]
  },
  {
   "cell_type": "code",
   "execution_count": 12,
   "id": "576a42e4",
   "metadata": {},
   "outputs": [],
   "source": [
    "def test(dataloader, model):\n",
    "    model.eval()\n",
    "    test_loss = 0\n",
    "    pred_all = []\n",
    "    with torch.no_grad():\n",
    "        for X, y in dataloader:\n",
    "            X, y = X.to(device), y.to(device)\n",
    "            \n",
    "            pred = model(X)\n",
    "            \n",
    "            test_loss = test_loss + loss_fn(pred, y.view(-1, 1).float()).item()\n",
    "\n",
    "            pred_all = pred_all + (pred.flatten() > 0.5).long().tolist()\n",
    "    \n",
    "    test_loss = test_loss/len(dataloader)\n",
    "    test_acc = metrics.accuracy_score(dataloader.dataset.Bclass, pred_all)\n",
    "    test_f1 = metrics.f1_score(dataloader.dataset.Bclass, pred_all)\n",
    "    \n",
    "    return (test_loss, test_acc, test_f1)"
   ]
  },
  {
   "cell_type": "markdown",
   "id": "fb5131ea",
   "metadata": {},
   "source": [
    "### Checking Cuda is present or not"
   ]
  },
  {
   "cell_type": "code",
   "execution_count": 13,
   "id": "d5934735",
   "metadata": {},
   "outputs": [
    {
     "name": "stdout",
     "output_type": "stream",
     "text": [
      "Using cuda device\n"
     ]
    }
   ],
   "source": [
    "device = 'cuda' if torch.cuda.is_available() else 'cpu'\n",
    "print('Using {} device'.format(device))"
   ]
  },
  {
   "cell_type": "markdown",
   "id": "153cadb1",
   "metadata": {},
   "source": [
    "## Model Training and Validating"
   ]
  },
  {
   "cell_type": "code",
   "execution_count": 14,
   "id": "78c920c5",
   "metadata": {},
   "outputs": [
    {
     "name": "stderr",
     "output_type": "stream",
     "text": [
      "\r",
      "  0%|                                                                                          | 0/101 [00:00<?, ?it/s]"
     ]
    },
    {
     "name": "stdout",
     "output_type": "stream",
     "text": [
      "---------------------------------------Training Started-------------------------------------------\n",
      "\n"
     ]
    },
    {
     "name": "stderr",
     "output_type": "stream",
     "text": [
      "  5%|████                                                                              | 5/101 [00:00<00:11,  8.28it/s]"
     ]
    },
    {
     "name": "stdout",
     "output_type": "stream",
     "text": [
      "Epochs 0\n",
      "Training LOSS 0.5687838594118754\n",
      "Training Accuracy 0.7620783956244302\n",
      "Validating Loss 0.41969789067904156\n",
      "Validating Accuracy 0.7345454545454545\n"
     ]
    },
    {
     "name": "stderr",
     "output_type": "stream",
     "text": [
      " 17%|█████████████▋                                                                   | 17/101 [00:01<00:03, 23.03it/s]"
     ]
    },
    {
     "name": "stdout",
     "output_type": "stream",
     "text": [
      "Epochs 10\n",
      "Training LOSS 0.025615704426955845\n",
      "Training Accuracy 0.9908842297174111\n",
      "Validating Loss 0.01687725061007465\n",
      "Validating Accuracy 0.9927272727272727\n"
     ]
    },
    {
     "name": "stderr",
     "output_type": "stream",
     "text": [
      " 25%|████████████████████                                                             | 25/101 [00:01<00:02, 28.35it/s]"
     ]
    },
    {
     "name": "stdout",
     "output_type": "stream",
     "text": [
      "Epochs 20\n",
      "Training LOSS 0.024382549338042736\n",
      "Training Accuracy 0.9908842297174111\n",
      "Validating Loss 0.014474592773088565\n",
      "Validating Accuracy 0.9927272727272727\n"
     ]
    },
    {
     "name": "stderr",
     "output_type": "stream",
     "text": [
      " 37%|█████████████████████████████▋                                                   | 37/101 [00:01<00:02, 30.92it/s]"
     ]
    },
    {
     "name": "stdout",
     "output_type": "stream",
     "text": [
      "Epochs 30\n",
      "Training LOSS 0.023851776987107262\n",
      "Training Accuracy 0.9890610756608933\n",
      "Validating Loss 0.013726252034151306\n",
      "Validating Accuracy 0.9927272727272727\n"
     ]
    },
    {
     "name": "stderr",
     "output_type": "stream",
     "text": [
      " 45%|████████████████████████████████████                                             | 45/101 [00:02<00:01, 28.05it/s]"
     ]
    },
    {
     "name": "stdout",
     "output_type": "stream",
     "text": [
      "Epochs 40\n",
      "Training LOSS 0.02336680820573949\n",
      "Training Accuracy 0.9890610756608933\n",
      "Validating Loss 0.0134158614576639\n",
      "Validating Accuracy 0.9927272727272727\n"
     ]
    },
    {
     "name": "stderr",
     "output_type": "stream",
     "text": [
      " 55%|████████████████████████████████████████████▉                                    | 56/101 [00:02<00:01, 29.50it/s]"
     ]
    },
    {
     "name": "stdout",
     "output_type": "stream",
     "text": [
      "Epochs 50\n",
      "Training LOSS 0.022966504336283024\n",
      "Training Accuracy 0.9890610756608933\n",
      "Validating Loss 0.012872856352866316\n",
      "Validating Accuracy 0.9927272727272727\n"
     ]
    },
    {
     "name": "stderr",
     "output_type": "stream",
     "text": [
      " 63%|███████████████████████████████████████████████████▎                             | 64/101 [00:02<00:01, 30.79it/s]"
     ]
    },
    {
     "name": "stdout",
     "output_type": "stream",
     "text": [
      "Epochs 60\n",
      "Training LOSS 0.022922054812726047\n",
      "Training Accuracy 0.9890610756608933\n",
      "Validating Loss 0.012992812766848752\n",
      "Validating Accuracy 0.9927272727272727\n"
     ]
    },
    {
     "name": "stderr",
     "output_type": "stream",
     "text": [
      " 75%|████████████████████████████████████████████████████████████▉                    | 76/101 [00:03<00:00, 31.88it/s]"
     ]
    },
    {
     "name": "stdout",
     "output_type": "stream",
     "text": [
      "Epochs 70\n",
      "Training LOSS 0.022655444193838373\n",
      "Training Accuracy 0.9890610756608933\n",
      "Validating Loss 0.012929732445627451\n",
      "Validating Accuracy 0.9927272727272727\n"
     ]
    },
    {
     "name": "stderr",
     "output_type": "stream",
     "text": [
      " 87%|██████████████████████████████████████████████████████████████████████▌          | 88/101 [00:03<00:00, 32.17it/s]"
     ]
    },
    {
     "name": "stdout",
     "output_type": "stream",
     "text": [
      "Epochs 80\n",
      "Training LOSS 0.022466660651843995\n",
      "Training Accuracy 0.9890610756608933\n",
      "Validating Loss 0.0128249487412783\n",
      "Validating Accuracy 0.9927272727272727\n"
     ]
    },
    {
     "name": "stderr",
     "output_type": "stream",
     "text": [
      " 95%|████████████████████████████████████████████████████████████████████████████▉    | 96/101 [00:03<00:00, 32.27it/s]"
     ]
    },
    {
     "name": "stdout",
     "output_type": "stream",
     "text": [
      "Epochs 90\n",
      "Training LOSS 0.022422409448255267\n",
      "Training Accuracy 0.9890610756608933\n",
      "Validating Loss 0.01310525841351288\n",
      "Validating Accuracy 0.9927272727272727\n"
     ]
    },
    {
     "name": "stderr",
     "output_type": "stream",
     "text": [
      "100%|████████████████████████████████████████████████████████████████████████████████| 101/101 [00:03<00:00, 26.66it/s]"
     ]
    },
    {
     "name": "stdout",
     "output_type": "stream",
     "text": [
      "Epochs 100\n",
      "Training LOSS 0.021329370191476\n",
      "Training Accuracy 0.9872379216043756\n",
      "Validating Loss 0.01205273840848046\n",
      "Validating Accuracy 0.9927272727272727\n",
      "Completed!\n"
     ]
    },
    {
     "name": "stderr",
     "output_type": "stream",
     "text": [
      "\n"
     ]
    }
   ],
   "source": [
    "k1 = 0.2\n",
    "k2 = 0.7\n",
    "\n",
    "model = NN_custom(training_data.data.shape[1],k1, k2).to(device)\n",
    "loss_fn = nn.BCELoss()\n",
    "optimizer = torch.optim.Adam(model.parameters(), lr=0.01, weight_decay=0.001)\n",
    "\n",
    "EPOCHS = 101\n",
    "\n",
    "train_info = []\n",
    "\n",
    "print('---------------------------------------Training Started-------------------------------------------\\n')\n",
    "for epoch in tqdm(range(EPOCHS)):\n",
    "    training_epoch = train(traindataloder, model, loss_fn, optimizer)\n",
    "    Validating_epoch = test(testdataloder, model)\n",
    "    \n",
    "    train_info.append(training_epoch)\n",
    "    test_info.append(Validating_epoch)\n",
    "    if epoch % 10 == 0:\n",
    "        print('Epochs',epoch)\n",
    "        print('Training LOSS',training_epoch[0])\n",
    "        print('Training Accuracy',training_epoch[1])\n",
    "        print('Validating Loss',Validating_epoch[0])\n",
    "        print('Validating Accuracy',Validating_epoch[1])\n",
    "print(\"Completed!\")"
   ]
  },
  {
   "cell_type": "markdown",
   "id": "60dd78e0",
   "metadata": {},
   "source": [
    "## Plotting the Results"
   ]
  },
  {
   "cell_type": "code",
   "execution_count": 15,
   "id": "e65ea83e",
   "metadata": {},
   "outputs": [
    {
     "data": {
      "text/plain": [
       "Text(0, 0.5, 'Validation Accuracy')"
      ]
     },
     "execution_count": 15,
     "metadata": {},
     "output_type": "execute_result"
    },
    {
     "data": {
      "image/png": "[encoded data removed]",
      "text/plain": [
       "<Figure size 432x576 with 2 Axes>"
      ]
     },
     "metadata": {
      "needs_background": "light"
     },
     "output_type": "display_data"
    }
   ],
   "source": [
    "fig, (ax1, ax2) = plt.subplots(2, figsize=(6, 8))\n",
    "\n",
    "ax1.plot(list(zip(*train_info))[0],'c')\n",
    "ax1.set_ylabel(\"Training loss\")\n",
    "ax2.plot(list(zip(*test_info))[1],'red')\n",
    "ax2.set_ylabel(\"Validation Accuracy\")"
   ]
  },
  {
   "cell_type": "code",
   "execution_count": null,
   "id": "17cf0311",
   "metadata": {},
   "outputs": [],
   "source": []
  }
 ],
 "metadata": {
  "kernelspec": {
   "display_name": "Python 3",
   "language": "python",
   "name": "python3"
  },
  "language_info": {
   "codemirror_mode": {
    "name": "ipython",
    "version": 3
   },
   "file_extension": ".py",
   "mimetype": "text/x-python",
   "name": "python",
   "nbconvert_exporter": "python",
   "pygments_lexer": "ipython3",
   "version": "3.8.3"
  }
 },
 "nbformat": 4,
 "nbformat_minor": 5
}
